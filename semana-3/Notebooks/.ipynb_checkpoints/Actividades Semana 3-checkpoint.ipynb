{
 "cells": [
  {
   "cell_type": "markdown",
   "metadata": {},
   "source": [
    "# Actividades Semana 3"
   ]
  },
  {
   "cell_type": "markdown",
   "metadata": {},
   "source": [
    "## Actividad 1."
   ]
  },
  {
   "cell_type": "markdown",
   "metadata": {},
   "source": [
    "Lea con OpenCV la imagen \"alce.jpg\" que está dentro de la carpeta \"res\". Conviértala a RGB y luego divídala en cuatro cuadrantes tales que el primer cuadrante muestre el color original de la imagen, el segundo muestre el canal azul únicamente, el tercero muestre el canal verde y el cuarto muestre el canal rojo.\n",
    "<br>Debe obtener lo siguiente: </br>\n",
    "\n",
    "<img src=\"res/actividad1.png\"/>"
   ]
  },
  {
   "cell_type": "code",
   "execution_count": null,
   "metadata": {},
   "outputs": [],
   "source": [
    "###Escriba su código aquí###"
   ]
  },
  {
   "cell_type": "markdown",
   "metadata": {},
   "source": [
    "# Actividad 2."
   ]
  },
  {
   "cell_type": "markdown",
   "metadata": {},
   "source": [
    "Obtenga de internet un mapa de alturas cualquiera, en escala de grises. Aplique pseudocolor a la imagen \"pibe.jpg\" en la carpeta \"res\", basado en planos de intensidad, con por lo menos 20 niveles de color NO aleatorios.\n",
    "<br>Ejemplo de mapa utilizable: https://www.leonardobenini.it/wp-content/uploads/2015/05/02-australia-gray.jpg</br>"
   ]
  },
  {
   "cell_type": "code",
   "execution_count": null,
   "metadata": {},
   "outputs": [],
   "source": []
  }
 ],
 "metadata": {
  "kernelspec": {
   "display_name": "Python 3",
   "language": "python",
   "name": "python3"
  },
  "language_info": {
   "codemirror_mode": {
    "name": "ipython",
    "version": 3
   },
   "file_extension": ".py",
   "mimetype": "text/x-python",
   "name": "python",
   "nbconvert_exporter": "python",
   "pygments_lexer": "ipython3",
   "version": "3.6.7"
  }
 },
 "nbformat": 4,
 "nbformat_minor": 2
}
