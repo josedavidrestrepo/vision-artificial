{
 "cells": [
  {
   "cell_type": "markdown",
   "metadata": {},
   "source": [
    "# Actividades Semana 3"
   ]
  },
  {
   "cell_type": "markdown",
   "metadata": {},
   "source": [
    "## Actividad 1."
   ]
  },
  {
   "cell_type": "markdown",
   "metadata": {},
   "source": [
    "Lea con OpenCV la imagen \"alce.jpg\" que está dentro de la carpeta \"res\". Conviértala a RGB y luego divídala en cuatro cuadrantes tales que el primer cuadrante muestre el color original de la imagen, el segundo muestre el canal azul únicamente, el tercero muestre el canal verde y el cuarto muestre el canal rojo.\n",
    "<br>Debe obtener lo siguiente: </br>\n",
    "\n",
    "<img src=\"res/actividad1.png\"/>"
   ]
  },
  {
   "cell_type": "code",
   "execution_count": null,
   "metadata": {},
   "outputs": [],
   "source": [
    "###Escriba su código aquí###"
   ]
  },
  {
   "cell_type": "markdown",
   "metadata": {},
   "source": [
    "## Actividad 2."
   ]
  },
  {
   "cell_type": "markdown",
   "metadata": {},
   "source": [
    "Algunos problemas de visión artificial, suelen abordarse mediante el estudio de los canales de los espacios de color, algunos de ellos: RGB, HSV, LAB, YUV y XYZ.\n",
    "\n",
    "<br>Lea la imagen \"frutas.jpg\" que se encuentra en la carpeta \"res\" y realice un subplot que muestre la imagen en cada uno de los canales que conforman los espacios de color nombrados anteriormente. Adicionalmente muestre la imagen en escala de grises</br>\n",
    "\n",
    "<br><b>Recuerde colocar título y subtitulos a las figuras.</b></br>"
   ]
  },
  {
   "cell_type": "code",
   "execution_count": null,
   "metadata": {},
   "outputs": [],
   "source": [
    "###Escriba su código aquí###"
   ]
  },
  {
   "cell_type": "markdown",
   "metadata": {},
   "source": [
    "¿Qué método propondría usted para diferenciar cada uno de los canales pertenecientes a los diferentes espacios de color? ¿Cómo las diferenciaría de la imagen en escala de grises?"
   ]
  },
  {
   "cell_type": "markdown",
   "metadata": {},
   "source": []
  },
  {
   "cell_type": "markdown",
   "metadata": {},
   "source": [
    "## Actividad 3."
   ]
  },
  {
   "cell_type": "markdown",
   "metadata": {},
   "source": [
    "La versión de NTSC aprobada por la Comisión Federal de Comunicaciones, en Estados Unidos, realiza una ligera variación en las ecuaciones del modelo YIQ: \n",
    "\n",
    "<img src=\"res/modificacion.png\"/>\n",
    "\n",
    "<br>Lea la imagen \"cells.png\" que se encuentra en la carpeta \"res\", escriba un código donde implemente la transformación lineal YIQ  modificada sobre el espacio de color RGB.</br>\n",
    "<br><b>Ayuda: Escriba en forma matricial el sistema para conocer las componentes R, G, B de los canales Y, I, Q.<b></br>"
   ]
  },
  {
   "cell_type": "code",
   "execution_count": null,
   "metadata": {},
   "outputs": [],
   "source": [
    "###Escriba su código aquí###"
   ]
  },
  {
   "cell_type": "markdown",
   "metadata": {},
   "source": [
    "¿En qué se diferencia la transformación YIQ, con la transformación ligeramente modificada? ¿Son idénticas? Pruebe comparando con el ejemplo implementado en clase."
   ]
  },
  {
   "cell_type": "markdown",
   "metadata": {},
   "source": []
  },
  {
   "cell_type": "markdown",
   "metadata": {},
   "source": [
    "## Actividad 4."
   ]
  },
  {
   "cell_type": "markdown",
   "metadata": {},
   "source": [
    "Obtenga de internet un mapa de alturas cualquiera, en escala de grises. Aplique pseudocolor a la imagen \"pibe.jpg\" en la carpeta \"res\", basado en planos de intensidad, con por lo menos 20 niveles de color NO aleatorios.\n",
    "<br>Ejemplo de mapa utilizable: https://www.leonardobenini.it/wp-content/uploads/2015/05/02-australia-gray.jpg</br>"
   ]
  },
  {
   "cell_type": "code",
   "execution_count": null,
   "metadata": {},
   "outputs": [],
   "source": [
    "###Escriba su código aquí###"
   ]
  }
 ],
 "metadata": {
  "kernelspec": {
   "display_name": "Python 3",
   "language": "python",
   "name": "python3"
  },
  "language_info": {
   "codemirror_mode": {
    "name": "ipython",
    "version": 3
   },
   "file_extension": ".py",
   "mimetype": "text/x-python",
   "name": "python",
   "nbconvert_exporter": "python",
   "pygments_lexer": "ipython3",
   "version": "3.6.7"
  }
 },
 "nbformat": 4,
 "nbformat_minor": 2
}
