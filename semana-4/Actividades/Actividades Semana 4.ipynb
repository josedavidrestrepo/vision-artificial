{
 "cells": [
  {
   "cell_type": "markdown",
   "metadata": {},
   "source": [
    "# Actividades Semana 4"
   ]
  },
  {
   "cell_type": "markdown",
   "metadata": {},
   "source": [
    "A continuación se presentan los ejercicios que el estudiante debe desarrollar, para afianzar los conceptos vistos acerca de transformaciones básicas de la imagen."
   ]
  },
  {
   "cell_type": "markdown",
   "metadata": {},
   "source": [
    "# Actividad 1."
   ]
  },
  {
   "cell_type": "markdown",
   "metadata": {},
   "source": [
    "Lea la imagen \"frutas.jpg\" que se encuentra en la carpeta \"res\", realice el subplot de ésta en los canales RGB, HSV, LAB, YUV y XYZ. \n",
    "\n",
    "<br>Genere, compare y analice los histogramas de los canales correspondientes a cada espacio de color</br>\n",
    "\n",
    "<b>Recuerde poner títulos y subtítulos a las imágenes y los histogramas</b>"
   ]
  },
  {
   "cell_type": "markdown",
   "metadata": {},
   "source": [
    "# Actividad 2."
   ]
  },
  {
   "cell_type": "markdown",
   "metadata": {},
   "source": [
    "No todas las imágenes son adquiridas con un dispositivo electrónico, algunas pueden ser generadas virtualmente y permiten el análisis y obtención de información, como las simulaciones.\n",
    "\n",
    "<br> Cree una imagen de 400x400 píxeles, divídala en rectángulos de 400x100, y píntelos como se muestra a continuación: </br>\n",
    "\n",
    "<img src = res/colores.png>\n",
    "\n",
    "Muestre ésta imagen utilizando el comando plt.imshow, y explique el método que utilizó para crearla.\n",
    "\n",
    "## b)\n",
    "\n",
    "Lea la imagen en los canales R,G y B del espacio de color RGB, asímismo con los canales L,A, B del espacio de color LAB.\n",
    "\n",
    "<br> Muestre, la imagen en los 6 canales con el respectivo histograma asociado. </br>\n",
    "\n",
    "<br> Concluya, respecto a TODOS y cada uno de los canales por separado, qué observa. Recuerde justificar sus observaciones con las relaciones entre los espacios de color y la información consignada en los histogramas respectivos. </br>\n",
    "\n",
    "Para analizar los histogramas obtenidos en el canal LAB es sugerible revisar la calculadora de colores: http://colorizer.org/\n",
    "\n",
    "## c)\n",
    "\n",
    "Lea la imagen \"eiffel.jpg\" que se encuentra en la carpeta \"res\", redimensionela a 800x600 píxeles, muestre la imagen y su histograma asociado.\n",
    "\n",
    "<img src = res/eiffel.jpg width = 400x>\n",
    "\n",
    "<br> Lea la imagen en el espacio de color HSV, posteriormente separe los canales H,S y V. Muestre cada uno de estos canales junto a su histograma asociado, explique, qué observa en cada canal. Recuerde que el espacio de color HSV, es un espacio de Matiz(tonalidad, tinte), Saturación y Brillo. ¿Considera usted que sería fácil separar la torre Eiffel del fondo, con alguno de  estos canales? Justifique.</br>\n",
    "\n",
    "Para más información del canal HSV: https://www.ecured.cu/Modelo_HSV"
   ]
  },
  {
   "cell_type": "markdown",
   "metadata": {},
   "source": [
    "# Actividad 3."
   ]
  },
  {
   "cell_type": "markdown",
   "metadata": {},
   "source": [
    "Lea la imagen \"col.png\" y la imagen \"jap.png\" que se encuentran en la carpeta \"res\", muestrelas con plt.imshow. NO es necesario mostrar sus histogramas.\n",
    "\n",
    "## a)\n",
    "\n",
    "<br> A continuación, se presenta una transformación sobre ambas imágenes </br>\n",
    "\n",
    "# <center> $ G(x,y) = (1-k)*I1(x,y) + k*I2(x,y) $ </center>\n",
    "\n",
    "# <center> $ 0 < k < 1 $ </center>\n",
    "\n",
    "Realice un código que muestre esta transformación, posteriormente responda:\n",
    "\n",
    "<br> ¿Qué ocurre si k = 1, k = 0, k = 0.5? </br>\n",
    "\n",
    "<br> Recuerde que debe mostrar la imagen \"col.png\", \"jap.png\" y la imagen resultado de la transformación.\n",
    "\n",
    "## b)\n",
    "\n",
    "<br> Implemente la transformación: </br>\n",
    "# <center> $ G(x,y) = a*I1(x,y) + b $ </center>\n",
    " \n",
    "Donde I1(x,y) es la imagen \"col.png\", a & b son constantes.\n",
    "<br> ¿Qué ocurre si a=0 & b es cualquier valor? ¿Qué ocurre si a = 1 & b > 255? </br>\n",
    "<br> Experimente con algún valor arbitrario de a & b y explique su resultado.\n",
    "\n",
    "\n",
    "## Sugerencia: Las transformaciones sobre la imagen deben  aplicarse sobre los tres canales que componen el espacio de color, si aplica la transformación directamente sobre la imagen RGB, OpenCv modificará por defecto el canal rojo."
   ]
  },
  {
   "cell_type": "markdown",
   "metadata": {},
   "source": [
    "# Actividad 4.\n",
    "\n",
    "Una aplicación del operador suma, es la superposición de una imagen con bordes resaltados sobre otra.  A continuación se presenta una imagen de entrada, obtenga la silueta correspondiente a sus bordes y explique cómo la obtuvo:\n",
    "\n",
    "<img src=\"res/cat.png\" style=\"height:250px\"/>\n",
    "\n",
    "Lea la imagen \"gato.jpg\" que se encuentra en la carpeta \"res\". La silueta no necesariamente debe mostrarse en color magenta, puede utilizar cualquier otro color para resaltarla, tampoco debe hallar exactamente la misma silueta mostrada en la Imagen 2, con un aproximado del ejemplo, es suficiente.\n"
   ]
  },
  {
   "cell_type": "markdown",
   "metadata": {},
   "source": [
    "# Actividad 5."
   ]
  },
  {
   "cell_type": "markdown",
   "metadata": {},
   "source": [
    "Un cliente, desea colocar una colección de fotos de su físico favorito alrededor de su galería, por tanto posee portarretratos de distinto tamaño y necesita ajustar la imagen a éstos con la mínima pérdida de información, esto significa que NO quiere recortes.\n",
    "\n",
    "<br>La imagen original, se encuentra en la carpeta \"res\" y su nombre es \"feynman.jpg\", el cliente no sabe el tamaño de la imagen original, por lo tanto debe buscarlo.</br>\n",
    "\n",
    "<br>Se le solicita, entregar tres imágenes con los siguientes tamaños (en píxeles): 1600x900, 800x600 y 250x250. Recuerde imprimir en consola el tamaño de la imagen original y las de nuevo tamaño. Recuerde utilizar interpolaciones bicúbicas, bilinear, entre otras.</br>"
   ]
  },
  {
   "cell_type": "code",
   "execution_count": null,
   "metadata": {},
   "outputs": [],
   "source": [
    "###Escriba aquí el código###"
   ]
  }
 ],
 "metadata": {
  "kernelspec": {
   "display_name": "Python 3",
   "language": "python",
   "name": "python3"
  },
  "language_info": {
   "codemirror_mode": {
    "name": "ipython",
    "version": 3
   },
   "file_extension": ".py",
   "mimetype": "text/x-python",
   "name": "python",
   "nbconvert_exporter": "python",
   "pygments_lexer": "ipython3",
   "version": "3.7.3"
  }
 },
 "nbformat": 4,
 "nbformat_minor": 2
}
